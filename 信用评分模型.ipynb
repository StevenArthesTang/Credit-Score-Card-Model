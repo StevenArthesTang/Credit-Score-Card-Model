{
 "cells": [
  {
   "cell_type": "markdown",
   "metadata": {},
   "source": [
    "# 信用评分模型开发"
   ]
  },
  {
   "cell_type": "code",
   "execution_count": 12,
   "metadata": {},
   "outputs": [],
   "source": [
    "%matplotlib inline\n",
    "import numpy as np\n",
    "import pandas as pd\n",
    "import matplotlib.pyplot as plt\n",
    "from sklearn.model_selection import train_test_split\n",
    "from sklearn.metrics import roc_auc_score, auc, roc_curve\n",
    "from xgboost import XGBClassifier\n",
    "\n",
    "import seaborn as sns\n",
    "sns.set(style = \"darkgrid\")\n",
    "\n",
    "import warnings\n",
    "warnings = warnings.filterwarnings(\"ignore\")"
   ]
  },
  {
   "cell_type": "code",
   "execution_count": 13,
   "metadata": {
    "scrolled": true
   },
   "outputs": [
    {
     "name": "stdout",
     "output_type": "stream",
     "text": [
      "(150000, 11)\n"
     ]
    },
    {
     "data": {
      "text/html": [
       "<div>\n",
       "<style scoped>\n",
       "    .dataframe tbody tr th:only-of-type {\n",
       "        vertical-align: middle;\n",
       "    }\n",
       "\n",
       "    .dataframe tbody tr th {\n",
       "        vertical-align: top;\n",
       "    }\n",
       "\n",
       "    .dataframe thead th {\n",
       "        text-align: right;\n",
       "    }\n",
       "</style>\n",
       "<table border=\"1\" class=\"dataframe\">\n",
       "  <thead>\n",
       "    <tr style=\"text-align: right;\">\n",
       "      <th></th>\n",
       "      <th>SeriousDlqin2yrs</th>\n",
       "      <th>RevolvingUtilizationOfUnsecuredLines</th>\n",
       "      <th>age</th>\n",
       "      <th>NumberOfTime30-59DaysPastDueNotWorse</th>\n",
       "      <th>DebtRatio</th>\n",
       "      <th>MonthlyIncome</th>\n",
       "      <th>NumberOfOpenCreditLinesAndLoans</th>\n",
       "      <th>NumberOfTimes90DaysLate</th>\n",
       "      <th>NumberRealEstateLoansOrLines</th>\n",
       "      <th>NumberOfTime60-89DaysPastDueNotWorse</th>\n",
       "      <th>NumberOfDependents</th>\n",
       "    </tr>\n",
       "  </thead>\n",
       "  <tbody>\n",
       "    <tr>\n",
       "      <th>0</th>\n",
       "      <td>1</td>\n",
       "      <td>0.766127</td>\n",
       "      <td>45</td>\n",
       "      <td>2</td>\n",
       "      <td>0.802982</td>\n",
       "      <td>9120.0</td>\n",
       "      <td>13</td>\n",
       "      <td>0</td>\n",
       "      <td>6</td>\n",
       "      <td>0</td>\n",
       "      <td>2.0</td>\n",
       "    </tr>\n",
       "    <tr>\n",
       "      <th>1</th>\n",
       "      <td>0</td>\n",
       "      <td>0.957151</td>\n",
       "      <td>40</td>\n",
       "      <td>0</td>\n",
       "      <td>0.121876</td>\n",
       "      <td>2600.0</td>\n",
       "      <td>4</td>\n",
       "      <td>0</td>\n",
       "      <td>0</td>\n",
       "      <td>0</td>\n",
       "      <td>1.0</td>\n",
       "    </tr>\n",
       "    <tr>\n",
       "      <th>2</th>\n",
       "      <td>0</td>\n",
       "      <td>0.658180</td>\n",
       "      <td>38</td>\n",
       "      <td>1</td>\n",
       "      <td>0.085113</td>\n",
       "      <td>3042.0</td>\n",
       "      <td>2</td>\n",
       "      <td>1</td>\n",
       "      <td>0</td>\n",
       "      <td>0</td>\n",
       "      <td>0.0</td>\n",
       "    </tr>\n",
       "    <tr>\n",
       "      <th>3</th>\n",
       "      <td>0</td>\n",
       "      <td>0.233810</td>\n",
       "      <td>30</td>\n",
       "      <td>0</td>\n",
       "      <td>0.036050</td>\n",
       "      <td>3300.0</td>\n",
       "      <td>5</td>\n",
       "      <td>0</td>\n",
       "      <td>0</td>\n",
       "      <td>0</td>\n",
       "      <td>0.0</td>\n",
       "    </tr>\n",
       "    <tr>\n",
       "      <th>4</th>\n",
       "      <td>0</td>\n",
       "      <td>0.907239</td>\n",
       "      <td>49</td>\n",
       "      <td>1</td>\n",
       "      <td>0.024926</td>\n",
       "      <td>63588.0</td>\n",
       "      <td>7</td>\n",
       "      <td>0</td>\n",
       "      <td>1</td>\n",
       "      <td>0</td>\n",
       "      <td>0.0</td>\n",
       "    </tr>\n",
       "  </tbody>\n",
       "</table>\n",
       "</div>"
      ],
      "text/plain": [
       "   SeriousDlqin2yrs  RevolvingUtilizationOfUnsecuredLines  age  \\\n",
       "0                 1                              0.766127   45   \n",
       "1                 0                              0.957151   40   \n",
       "2                 0                              0.658180   38   \n",
       "3                 0                              0.233810   30   \n",
       "4                 0                              0.907239   49   \n",
       "\n",
       "   NumberOfTime30-59DaysPastDueNotWorse  DebtRatio  MonthlyIncome  \\\n",
       "0                                     2   0.802982         9120.0   \n",
       "1                                     0   0.121876         2600.0   \n",
       "2                                     1   0.085113         3042.0   \n",
       "3                                     0   0.036050         3300.0   \n",
       "4                                     1   0.024926        63588.0   \n",
       "\n",
       "   NumberOfOpenCreditLinesAndLoans  NumberOfTimes90DaysLate  \\\n",
       "0                               13                        0   \n",
       "1                                4                        0   \n",
       "2                                2                        1   \n",
       "3                                5                        0   \n",
       "4                                7                        0   \n",
       "\n",
       "   NumberRealEstateLoansOrLines  NumberOfTime60-89DaysPastDueNotWorse  \\\n",
       "0                             6                                     0   \n",
       "1                             0                                     0   \n",
       "2                             0                                     0   \n",
       "3                             0                                     0   \n",
       "4                             1                                     0   \n",
       "\n",
       "   NumberOfDependents  \n",
       "0                 2.0  \n",
       "1                 1.0  \n",
       "2                 0.0  \n",
       "3                 0.0  \n",
       "4                 0.0  "
      ]
     },
     "execution_count": 13,
     "metadata": {},
     "output_type": "execute_result"
    }
   ],
   "source": [
    "#载入数据\n",
    "path = 'M:/Project_Datasets/GiveMeSomeCredit/'\n",
    "data = pd.read_csv(path + 'train.csv')\n",
    "data=data.iloc[:,1:]\n",
    "print(data.shape)\n",
    "data.head()"
   ]
  },
  {
   "cell_type": "code",
   "execution_count": 14,
   "metadata": {},
   "outputs": [
    {
     "name": "stdout",
     "output_type": "stream",
     "text": [
      "<class 'pandas.core.frame.DataFrame'>\n",
      "RangeIndex: 150000 entries, 0 to 149999\n",
      "Data columns (total 11 columns):\n",
      " #   Column                                Non-Null Count   Dtype  \n",
      "---  ------                                --------------   -----  \n",
      " 0   SeriousDlqin2yrs                      150000 non-null  int64  \n",
      " 1   RevolvingUtilizationOfUnsecuredLines  150000 non-null  float64\n",
      " 2   age                                   150000 non-null  int64  \n",
      " 3   NumberOfTime30-59DaysPastDueNotWorse  150000 non-null  int64  \n",
      " 4   DebtRatio                             150000 non-null  float64\n",
      " 5   MonthlyIncome                         120269 non-null  float64\n",
      " 6   NumberOfOpenCreditLinesAndLoans       150000 non-null  int64  \n",
      " 7   NumberOfTimes90DaysLate               150000 non-null  int64  \n",
      " 8   NumberRealEstateLoansOrLines          150000 non-null  int64  \n",
      " 9   NumberOfTime60-89DaysPastDueNotWorse  150000 non-null  int64  \n",
      " 10  NumberOfDependents                    146076 non-null  float64\n",
      "dtypes: float64(4), int64(7)\n",
      "memory usage: 12.6 MB\n"
     ]
    }
   ],
   "source": [
    "data.info()"
   ]
  },
  {
   "cell_type": "markdown",
   "metadata": {},
   "source": [
    "## EDA and Preprocessing"
   ]
  },
  {
   "cell_type": "code",
   "execution_count": 15,
   "metadata": {},
   "outputs": [
    {
     "data": {
      "text/html": [
       "<div>\n",
       "<style scoped>\n",
       "    .dataframe tbody tr th:only-of-type {\n",
       "        vertical-align: middle;\n",
       "    }\n",
       "\n",
       "    .dataframe tbody tr th {\n",
       "        vertical-align: top;\n",
       "    }\n",
       "\n",
       "    .dataframe thead th {\n",
       "        text-align: right;\n",
       "    }\n",
       "</style>\n",
       "<table border=\"1\" class=\"dataframe\">\n",
       "  <thead>\n",
       "    <tr style=\"text-align: right;\">\n",
       "      <th></th>\n",
       "      <th>SeriousDlqin2yrs</th>\n",
       "      <th>RevolvingUtilizationOfUnsecuredLines</th>\n",
       "      <th>age</th>\n",
       "      <th>NumberOfTime30-59DaysPastDueNotWorse</th>\n",
       "      <th>DebtRatio</th>\n",
       "      <th>MonthlyIncome</th>\n",
       "      <th>NumberOfOpenCreditLinesAndLoans</th>\n",
       "      <th>NumberOfTimes90DaysLate</th>\n",
       "      <th>NumberRealEstateLoansOrLines</th>\n",
       "      <th>NumberOfTime60-89DaysPastDueNotWorse</th>\n",
       "      <th>NumberOfDependents</th>\n",
       "    </tr>\n",
       "  </thead>\n",
       "  <tbody>\n",
       "    <tr>\n",
       "      <th>count</th>\n",
       "      <td>150000.000000</td>\n",
       "      <td>150000.000000</td>\n",
       "      <td>150000.000000</td>\n",
       "      <td>150000.000000</td>\n",
       "      <td>150000.000000</td>\n",
       "      <td>1.202690e+05</td>\n",
       "      <td>150000.000000</td>\n",
       "      <td>150000.000000</td>\n",
       "      <td>150000.000000</td>\n",
       "      <td>150000.000000</td>\n",
       "      <td>146076.000000</td>\n",
       "    </tr>\n",
       "    <tr>\n",
       "      <th>mean</th>\n",
       "      <td>0.066840</td>\n",
       "      <td>6.048438</td>\n",
       "      <td>52.295207</td>\n",
       "      <td>0.421033</td>\n",
       "      <td>353.005076</td>\n",
       "      <td>6.670221e+03</td>\n",
       "      <td>8.452760</td>\n",
       "      <td>0.265973</td>\n",
       "      <td>1.018240</td>\n",
       "      <td>0.240387</td>\n",
       "      <td>0.757222</td>\n",
       "    </tr>\n",
       "    <tr>\n",
       "      <th>std</th>\n",
       "      <td>0.249746</td>\n",
       "      <td>249.755371</td>\n",
       "      <td>14.771866</td>\n",
       "      <td>4.192781</td>\n",
       "      <td>2037.818523</td>\n",
       "      <td>1.438467e+04</td>\n",
       "      <td>5.145951</td>\n",
       "      <td>4.169304</td>\n",
       "      <td>1.129771</td>\n",
       "      <td>4.155179</td>\n",
       "      <td>1.115086</td>\n",
       "    </tr>\n",
       "    <tr>\n",
       "      <th>min</th>\n",
       "      <td>0.000000</td>\n",
       "      <td>0.000000</td>\n",
       "      <td>0.000000</td>\n",
       "      <td>0.000000</td>\n",
       "      <td>0.000000</td>\n",
       "      <td>0.000000e+00</td>\n",
       "      <td>0.000000</td>\n",
       "      <td>0.000000</td>\n",
       "      <td>0.000000</td>\n",
       "      <td>0.000000</td>\n",
       "      <td>0.000000</td>\n",
       "    </tr>\n",
       "    <tr>\n",
       "      <th>25%</th>\n",
       "      <td>0.000000</td>\n",
       "      <td>0.029867</td>\n",
       "      <td>41.000000</td>\n",
       "      <td>0.000000</td>\n",
       "      <td>0.175074</td>\n",
       "      <td>3.400000e+03</td>\n",
       "      <td>5.000000</td>\n",
       "      <td>0.000000</td>\n",
       "      <td>0.000000</td>\n",
       "      <td>0.000000</td>\n",
       "      <td>0.000000</td>\n",
       "    </tr>\n",
       "    <tr>\n",
       "      <th>50%</th>\n",
       "      <td>0.000000</td>\n",
       "      <td>0.154181</td>\n",
       "      <td>52.000000</td>\n",
       "      <td>0.000000</td>\n",
       "      <td>0.366508</td>\n",
       "      <td>5.400000e+03</td>\n",
       "      <td>8.000000</td>\n",
       "      <td>0.000000</td>\n",
       "      <td>1.000000</td>\n",
       "      <td>0.000000</td>\n",
       "      <td>0.000000</td>\n",
       "    </tr>\n",
       "    <tr>\n",
       "      <th>75%</th>\n",
       "      <td>0.000000</td>\n",
       "      <td>0.559046</td>\n",
       "      <td>63.000000</td>\n",
       "      <td>0.000000</td>\n",
       "      <td>0.868254</td>\n",
       "      <td>8.249000e+03</td>\n",
       "      <td>11.000000</td>\n",
       "      <td>0.000000</td>\n",
       "      <td>2.000000</td>\n",
       "      <td>0.000000</td>\n",
       "      <td>1.000000</td>\n",
       "    </tr>\n",
       "    <tr>\n",
       "      <th>max</th>\n",
       "      <td>1.000000</td>\n",
       "      <td>50708.000000</td>\n",
       "      <td>109.000000</td>\n",
       "      <td>98.000000</td>\n",
       "      <td>329664.000000</td>\n",
       "      <td>3.008750e+06</td>\n",
       "      <td>58.000000</td>\n",
       "      <td>98.000000</td>\n",
       "      <td>54.000000</td>\n",
       "      <td>98.000000</td>\n",
       "      <td>20.000000</td>\n",
       "    </tr>\n",
       "  </tbody>\n",
       "</table>\n",
       "</div>"
      ],
      "text/plain": [
       "       SeriousDlqin2yrs  RevolvingUtilizationOfUnsecuredLines            age  \\\n",
       "count     150000.000000                         150000.000000  150000.000000   \n",
       "mean           0.066840                              6.048438      52.295207   \n",
       "std            0.249746                            249.755371      14.771866   \n",
       "min            0.000000                              0.000000       0.000000   \n",
       "25%            0.000000                              0.029867      41.000000   \n",
       "50%            0.000000                              0.154181      52.000000   \n",
       "75%            0.000000                              0.559046      63.000000   \n",
       "max            1.000000                          50708.000000     109.000000   \n",
       "\n",
       "       NumberOfTime30-59DaysPastDueNotWorse      DebtRatio  MonthlyIncome  \\\n",
       "count                         150000.000000  150000.000000   1.202690e+05   \n",
       "mean                               0.421033     353.005076   6.670221e+03   \n",
       "std                                4.192781    2037.818523   1.438467e+04   \n",
       "min                                0.000000       0.000000   0.000000e+00   \n",
       "25%                                0.000000       0.175074   3.400000e+03   \n",
       "50%                                0.000000       0.366508   5.400000e+03   \n",
       "75%                                0.000000       0.868254   8.249000e+03   \n",
       "max                               98.000000  329664.000000   3.008750e+06   \n",
       "\n",
       "       NumberOfOpenCreditLinesAndLoans  NumberOfTimes90DaysLate  \\\n",
       "count                    150000.000000            150000.000000   \n",
       "mean                          8.452760                 0.265973   \n",
       "std                           5.145951                 4.169304   \n",
       "min                           0.000000                 0.000000   \n",
       "25%                           5.000000                 0.000000   \n",
       "50%                           8.000000                 0.000000   \n",
       "75%                          11.000000                 0.000000   \n",
       "max                          58.000000                98.000000   \n",
       "\n",
       "       NumberRealEstateLoansOrLines  NumberOfTime60-89DaysPastDueNotWorse  \\\n",
       "count                 150000.000000                         150000.000000   \n",
       "mean                       1.018240                              0.240387   \n",
       "std                        1.129771                              4.155179   \n",
       "min                        0.000000                              0.000000   \n",
       "25%                        0.000000                              0.000000   \n",
       "50%                        1.000000                              0.000000   \n",
       "75%                        2.000000                              0.000000   \n",
       "max                       54.000000                             98.000000   \n",
       "\n",
       "       NumberOfDependents  \n",
       "count       146076.000000  \n",
       "mean             0.757222  \n",
       "std              1.115086  \n",
       "min              0.000000  \n",
       "25%              0.000000  \n",
       "50%              0.000000  \n",
       "75%              1.000000  \n",
       "max             20.000000  "
      ]
     },
     "execution_count": 15,
     "metadata": {},
     "output_type": "execute_result"
    }
   ],
   "source": [
    "# 描述性统计\n",
    "data.describe()"
   ]
  },
  {
   "cell_type": "code",
   "execution_count": 16,
   "metadata": {},
   "outputs": [
    {
     "name": "stdout",
     "output_type": "stream",
     "text": [
      "0    139974\n",
      "1     10026\n",
      "Name: SeriousDlqin2yrs, dtype: int64\n",
      "0    0.93316\n",
      "1    0.06684\n",
      "Name: SeriousDlqin2yrs, dtype: float64\n",
      "------------------------------------------\n"
     ]
    },
    {
     "data": {
      "image/png": "[encoded data removed]",
      "text/plain": [
       "<Figure size 432x288 with 1 Axes>"
      ]
     },
     "metadata": {},
     "output_type": "display_data"
    }
   ],
   "source": [
    "# 查看目标变量SeriousDlqin2yrs的数据分布\n",
    "print(data['SeriousDlqin2yrs'].value_counts())\n",
    "print(data['SeriousDlqin2yrs'].value_counts()/len(data))\n",
    "print('---' * 14)\n",
    "sns.countplot(x = 'SeriousDlqin2yrs',data = data, palette = 'hls')\n",
    "plt.show()"
   ]
  },
  {
   "cell_type": "code",
   "execution_count": 17,
   "metadata": {},
   "outputs": [],
   "source": [
    "# 一般而言，违约客户为0，正常履约客户为1。所以将目标变量SeriousDlqin2yrs的值取反\n",
    "data['SeriousDlqin2yrs']=1-data['SeriousDlqin2yrs']"
   ]
  },
  {
   "cell_type": "code",
   "execution_count": 18,
   "metadata": {},
   "outputs": [
    {
     "data": {
      "text/plain": [
       "SeriousDlqin2yrs                        0.000000\n",
       "RevolvingUtilizationOfUnsecuredLines    0.000000\n",
       "age                                     0.000000\n",
       "NumberOfTime30-59DaysPastDueNotWorse    0.000000\n",
       "DebtRatio                               0.000000\n",
       "MonthlyIncome                           0.198207\n",
       "NumberOfOpenCreditLinesAndLoans         0.000000\n",
       "NumberOfTimes90DaysLate                 0.000000\n",
       "NumberRealEstateLoansOrLines            0.000000\n",
       "NumberOfTime60-89DaysPastDueNotWorse    0.000000\n",
       "NumberOfDependents                      0.026160\n",
       "dtype: float64"
      ]
     },
     "execution_count": 18,
     "metadata": {},
     "output_type": "execute_result"
    }
   ],
   "source": [
    "# 查看缺失值\n",
    "data.isnull().sum()/len(data)"
   ]
  },
  {
   "cell_type": "markdown",
   "metadata": {},
   "source": [
    "MonthlyIncome列缺失19.82%的数据、NumberOfDependents列缺失2.62%的数据"
   ]
  },
  {
   "cell_type": "code",
   "execution_count": 19,
   "metadata": {},
   "outputs": [
    {
     "name": "stdout",
     "output_type": "stream",
     "text": [
      "[8311. 1159. 8311. ... 1159. 2554. 2554.]\n"
     ]
    }
   ],
   "source": [
    "# 采用随机森林算法填充MonthlyIncome的缺失值\n",
    "from sklearn.ensemble import RandomForestRegressor\n",
    "from sklearn.datasets import make_regression\n",
    "\n",
    "def set_missing(df):\n",
    "    process_df = df.iloc[:, [5,0,1,2,3,4,6,7,8,9]] \n",
    "    known = process_df[process_df.MonthlyIncome.notnull()].values\n",
    "    unknown = process_df[process_df.MonthlyIncome.isnull()].values\n",
    "    X = known[:, 1:]\n",
    "    y = known[:, 0]\n",
    "    rfr = RandomForestRegressor(n_estimators=200, \n",
    "                                max_depth=3, \n",
    "                                n_jobs=-1, \n",
    "                                random_state=0)\n",
    "    rfr.fit(X,y)\n",
    "    predicted = rfr.predict(unknown[:, 1:]).round(0)\n",
    "    print(predicted)\n",
    "    df.loc[df.MonthlyIncome.isnull(), 'MonthlyIncome'] = predicted\n",
    "    return df\n",
    "\n",
    "data = set_missing(data)"
   ]
  },
  {
   "cell_type": "code",
   "execution_count": 20,
   "metadata": {},
   "outputs": [
    {
     "data": {
      "text/plain": [
       "<matplotlib.axes._subplots.AxesSubplot at 0x27be70a5a08>"
      ]
     },
     "execution_count": 20,
     "metadata": {},
     "output_type": "execute_result"
    },
    {
     "data": {
      "image/png": "[encoded data removed]",
      "text/plain": [
       "<Figure size 432x288 with 1 Axes>"
      ]
     },
     "metadata": {},
     "output_type": "display_data"
    }
   ],
   "source": [
    "income = data[data['MonthlyIncome']<50000]['MonthlyIncome'] \n",
    "sns.distplot(income)"
   ]
  },
  {
   "cell_type": "code",
   "execution_count": 21,
   "metadata": {},
   "outputs": [
    {
     "name": "stdout",
     "output_type": "stream",
     "text": [
      "<class 'pandas.core.frame.DataFrame'>\n",
      "Int64Index: 145563 entries, 0 to 149999\n",
      "Data columns (total 11 columns):\n",
      " #   Column                                Non-Null Count   Dtype  \n",
      "---  ------                                --------------   -----  \n",
      " 0   SeriousDlqin2yrs                      145563 non-null  int64  \n",
      " 1   RevolvingUtilizationOfUnsecuredLines  145563 non-null  float64\n",
      " 2   age                                   145563 non-null  int64  \n",
      " 3   NumberOfTime30-59DaysPastDueNotWorse  145563 non-null  int64  \n",
      " 4   DebtRatio                             145563 non-null  float64\n",
      " 5   MonthlyIncome                         145563 non-null  float64\n",
      " 6   NumberOfOpenCreditLinesAndLoans       145563 non-null  int64  \n",
      " 7   NumberOfTimes90DaysLate               145563 non-null  int64  \n",
      " 8   NumberRealEstateLoansOrLines          145563 non-null  int64  \n",
      " 9   NumberOfTime60-89DaysPastDueNotWorse  145563 non-null  int64  \n",
      " 10  NumberOfDependents                    145563 non-null  float64\n",
      "dtypes: float64(4), int64(7)\n",
      "memory usage: 13.3 MB\n"
     ]
    }
   ],
   "source": [
    "# 删除NumberOfDependents的缺失值\n",
    "data = data.dropna()\n",
    "# 删除重复项\n",
    "data = data.drop_duplicates()\n",
    "data.info()"
   ]
  },
  {
   "cell_type": "code",
   "execution_count": 22,
   "metadata": {},
   "outputs": [
    {
     "data": {
      "text/plain": [
       "<matplotlib.axes._subplots.AxesSubplot at 0x27be7102e88>"
      ]
     },
     "execution_count": 22,
     "metadata": {},
     "output_type": "execute_result"
    },
    {
     "data": {
      "image/png": "[encoded data removed]",
      "text/plain": [
       "<Figure size 432x288 with 1 Axes>"
      ]
     },
     "metadata": {},
     "output_type": "display_data"
    }
   ],
   "source": [
    "# 观察age数据分布\n",
    "age = data['age']\n",
    "sns.distplot(age)"
   ]
  },
  {
   "cell_type": "code",
   "execution_count": 23,
   "metadata": {},
   "outputs": [],
   "source": [
    "# 特征变量age的数据分布图发现age中存在0，显然为异常值，直接剔除\n",
    "data=data[data['age']>0]"
   ]
  },
  {
   "cell_type": "code",
   "execution_count": 24,
   "metadata": {},
   "outputs": [
    {
     "data": {
      "text/plain": [
       "<matplotlib.axes._subplots.AxesSubplot at 0x27be6fedac8>"
      ]
     },
     "execution_count": 24,
     "metadata": {},
     "output_type": "execute_result"
    },
    {
     "data": {
      "image/png": "[encoded data removed]",
      "text/plain": [
       "<Figure size 720x288 with 1 Axes>"
      ]
     },
     "metadata": {},
     "output_type": "display_data"
    }
   ],
   "source": [
    "'''\n",
    "NumberOfTime30-59DaysPastDueNotWorse,\n",
    "NumberOfTimes90DaysLate,\n",
    "NumberOfTime60-89DaysPastDueNotWorse\n",
    "'''\n",
    "train_box = data.iloc[:,[3,7,9]]\n",
    "train_box.boxplot(figsize=(10,4))"
   ]
  },
  {
   "cell_type": "code",
   "execution_count": 25,
   "metadata": {},
   "outputs": [
    {
     "name": "stdout",
     "output_type": "stream",
     "text": [
      "[ 2  0  1  3  4  5  7 10  6 98 12  8  9 96 13 11]\n",
      "[ 0  1  3  2  5  4 98 10  9  6  7  8 15 96 11 13 14 17 12]\n",
      "[ 0  1  2  5  3 98  4  6  7  8 96 11  9]\n"
     ]
    }
   ],
   "source": [
    "print(data[\"NumberOfTime30-59DaysPastDueNotWorse\"].unique())\n",
    "print(data[\"NumberOfTimes90DaysLate\"].unique())\n",
    "print(data[\"NumberOfTime60-89DaysPastDueNotWorse\"].unique())"
   ]
  },
  {
   "cell_type": "code",
   "execution_count": 26,
   "metadata": {},
   "outputs": [],
   "source": [
    "# 剔除这3个特征变量的异常值\n",
    "data = data[data['NumberOfTime30-59DaysPastDueNotWorse'] < 90]\n",
    "data = data[data['NumberOfTimes90DaysLate'] < 90]\n",
    "data = data[data['NumberOfTime60-89DaysPastDueNotWorse'] < 90]"
   ]
  },
  {
   "cell_type": "markdown",
   "metadata": {},
   "source": [
    "## 划分训练集和测试集"
   ]
  },
  {
   "cell_type": "code",
   "execution_count": 27,
   "metadata": {},
   "outputs": [],
   "source": [
    "X = data.drop(['SeriousDlqin2yrs'], axis = 1)\n",
    "y = data['SeriousDlqin2yrs']\n",
    "\n",
    "X_train, X_test, y_train, y_test = train_test_split(\n",
    "    X, y, test_size=0.3, random_state=2020)\n",
    "\n",
    "train_df = pd.concat([X_train, y_train], axis=1)\n",
    "test_df = pd.concat([X_test, y_test], axis=1)\n",
    "#clasTest = testDf.groupby('SeriousDlqin2yrs')['SeriousDlqin2yrs'].count()"
   ]
  },
  {
   "cell_type": "markdown",
   "metadata": {},
   "source": [
    "## WOE分箱"
   ]
  },
  {
   "cell_type": "code",
   "execution_count": 28,
   "metadata": {},
   "outputs": [],
   "source": [
    "def mono_bin(X, y, n):\n",
    "    r = 0\n",
    "    good = y.sum()\n",
    "    bad = y.count() - good\n",
    "    while np.abs(r) < 1:\n",
    "        d1 = pd.DataFrame({\"X\" : X, \"y\" : y, \"Bucket\" : pd.qcut(X, n)})\n",
    "        d2 = d1.groupby('Bucket', as_index = True)\n",
    "        r, p = stats.spearmanr(d2.mean().X, d2.mean().y)\n",
    "        n = n - 1\n",
    "    d3 = pd.DataFrame(d2.X.min(), columns = ['min'])\n",
    "    d3['min'] = d2.min().X\n",
    "    d3['max'] = d2.max().X\n",
    "    d3['sum'] = d2.sum().y\n",
    "    d3['total'] = d2.count().y\n",
    "    d3['rate'] = d2.mean().y\n",
    "    d3['woe'] = np.log((d3['rate']/(1-d3['rate']))/(good/bad))\n",
    "    d3['goodattribute'] = d3['sum']/good\n",
    "    d3['badattribute'] = (d3['total']-d3['sum'])/bad\n",
    "    iv = ((d3['goodattribute']-d3['badattribute'])*d3['woe']).sum()\n",
    "    d4 = (d3.sort_index(kind = 'min'))\n",
    "    woe = list(d4['woe'].round(3))\n",
    "    \n",
    "    cut=[]\n",
    "    cut.append(float('-inf')) \n",
    "    for i in range(1, n+1):\n",
    "        qua=X.quantile(i/(n+1))\n",
    "        cut.append(round(qua,4))\n",
    "    cut.append(float('inf'))\n",
    "    \n",
    "    return d4, iv, cut, woe"
   ]
  },
  {
   "cell_type": "code",
   "execution_count": 29,
   "metadata": {},
   "outputs": [],
   "source": [
    "dfx1, ivx1, cutx1, woex1 = mono_bin(train_df.RevolvingUtilizationOfUnsecuredLines, \n",
    "                                    train_df.SeriousDlqin2yrs, \n",
    "                                    n=10)\n",
    "\n",
    "dfx2, ivx2, cutx2, woex2 = mono_bin(train_df.age, \n",
    "                                    train_df.SeriousDlqin2yrs, \n",
    "                                    n=10)\n",
    "\n",
    "dfx4, ivx4, cutx4, woex4 = mono_bin(train_df.DebtRatio, \n",
    "                                    train_df.SeriousDlqin2yrs, \n",
    "                                    n=20)\n",
    "\n",
    "dfx5, ivx5, cutx5, woex5 = mono_bin(train_df.MonthlyIncome, \n",
    "                                    train_df.SeriousDlqin2yrs, \n",
    "                                    n=10)"
   ]
  },
  {
   "cell_type": "markdown",
   "metadata": {},
   "source": [
    "对于上述分箱方法不能合理拆分的特征，采用无监督分箱的手动分箱："
   ]
  },
  {
   "cell_type": "code",
   "execution_count": 30,
   "metadata": {},
   "outputs": [],
   "source": [
    "pinf = float('inf')\n",
    "ninf = float('-inf')\n",
    "cutx3 = [ninf, 0, 1, 3, 5, pinf]\n",
    "cutx6 = [ninf, 1, 2, 3, 5, 7, 9, pinf]\n",
    "cutx7 = [ninf, 0, 1, 3, 5, pinf]\n",
    "cutx8 = [ninf, 0,1,2, 3, pinf]\n",
    "cutx9 = [ninf, 0, 1, 3, pinf]\n",
    "cutx10 = [ninf, 0, 1, 2, 3, 5, pinf]\n",
    "\n",
    "# 自定义人工分箱函数\n",
    "def self_bin(X, y, cat):   \n",
    "    good = y.sum()\n",
    "    bad = y.count()-good\n",
    "    d1 = pd.DataFrame({'X' : X,'y' : y,'Bucket' : pd.cut(X,cat)})\n",
    "    d2 = d1.groupby('Bucket', as_index = True)\n",
    "    d3 = pd.DataFrame(d2.X.min(), columns=['min'])\n",
    "    d3['min'] = d2.min().X\n",
    "    d3['max'] = d2.max().X\n",
    "    d3['sum'] = d2.sum().y\n",
    "    d3['total'] = d2.count().y\n",
    "    d3['rate'] = d2.mean().y\n",
    "    d3['woe'] = np.log((d3['rate']/(1-d3['rate']))/(good/bad))   \n",
    "    d3['goodattribute'] = d3['sum']/good\n",
    "    d3['badattribute'] = (d3['total']-d3['sum'])/bad\n",
    "    iv = ((d3['goodattribute']-d3['badattribute'])*d3['woe']).sum()\n",
    "    d4 = (d3.sort_index(kind = 'min'))\n",
    "    woe = list(d4['woe'].round(3))\n",
    "    return d4, iv, woe"
   ]
  },
  {
   "cell_type": "code",
   "execution_count": 31,
   "metadata": {},
   "outputs": [],
   "source": [
    "dfx3, ivx3, woex3 = self_bin(train_df['NumberOfTime30-59DaysPastDueNotWorse'], \n",
    "                             train_df.SeriousDlqin2yrs, \n",
    "                             cutx3)\n",
    "\n",
    "dfx6, ivx6, woex6= self_bin(train_df['NumberOfOpenCreditLinesAndLoans'], \n",
    "                            train_df.SeriousDlqin2yrs, \n",
    "                            cutx6)\n",
    "\n",
    "dfx7, ivx7, woex7 = self_bin(train_df['NumberOfTimes90DaysLate'], \n",
    "                             train_df.SeriousDlqin2yrs, \n",
    "                             cutx7)\n",
    "\n",
    "dfx8, ivx8, woex8 = self_bin(train_df['NumberRealEstateLoansOrLines'], \n",
    "                             train_df.SeriousDlqin2yrs, \n",
    "                             cutx8)\n",
    "\n",
    "dfx9, ivx9, woex9 = self_bin(train_df['NumberOfTime60-89DaysPastDueNotWorse'], \n",
    "                             train_df.SeriousDlqin2yrs, \n",
    "                             cutx9)\n",
    "\n",
    "dfx10, ivx10, woex10 = self_bin(train_df['NumberOfDependents'], \n",
    "                                train_df.SeriousDlqin2yrs, \n",
    "                                cutx10)"
   ]
  },
  {
   "cell_type": "code",
   "execution_count": 32,
   "metadata": {},
   "outputs": [
    {
     "data": {
      "image/png": "[encoded data removed]",
      "text/plain": [
       "<Figure size 720x576 with 2 Axes>"
      ]
     },
     "metadata": {},
     "output_type": "display_data"
    }
   ],
   "source": [
    "# 相关性分析，判断复共线性严重程度\n",
    "corr = train_df.corr()\n",
    "xticks = ['x0', 'x1', 'x2', 'x3', 'x4', 'x5', \n",
    "          'x6', 'x7', 'x8', 'x9', 'x10']\n",
    "yticks = list(corr.index)\n",
    "fig, ax = plt.subplots(figsize = (10, 8))\n",
    "sns.heatmap(corr, annot = True, cmap = 'YlGnBu',\n",
    "            annot_kws = {'size' : 12, \n",
    "                         'weight' : 'bold', \n",
    "                         'color' : 'black'})\n",
    "ax.set_xticklabels(xticks, rotation=0, fontsize=14)\n",
    "ax.set_yticklabels(yticks, rotation=0, fontsize=14)\n",
    "plt.show()"
   ]
  },
  {
   "cell_type": "code",
   "execution_count": 33,
   "metadata": {},
   "outputs": [
    {
     "data": {
      "image/png": "[encoded data removed]",
      "text/plain": [
       "<Figure size 864x576 with 1 Axes>"
      ]
     },
     "metadata": {},
     "output_type": "display_data"
    }
   ],
   "source": [
    "ivlist = [ivx1, ivx2, ivx3, ivx4, ivx5, \n",
    "          ivx6, ivx7, ivx8, ivx9, ivx10]\n",
    "index = ['x1', 'x2', 'x3', 'x4', 'x5', \n",
    "         'x6', 'x7', 'x8', 'x9', 'x10']\n",
    "fig, ax = plt.subplots(figsize=(12,8))\n",
    "x = np.arange(len(index)) + 1\n",
    "ax.bar(x, ivlist, width=.8)\n",
    "ax.set_xticks(x)\n",
    "ax.set_xticklabels(index, rotation=0, fontsize=16)\n",
    "ax.set_ylabel('IV', fontsize=16)\n",
    "for a, b in zip(x, ivlist):\n",
    "    plt.text(a, b + 0.01, '%.4f' % b, \n",
    "             ha='center', va='bottom', fontsize=12)\n",
    "plt.show()"
   ]
  },
  {
   "cell_type": "markdown",
   "metadata": {},
   "source": [
    "一般而言，IV值在0.02以下不具有有效信息。x2、x4、x5、x6、x8、x10的IV值在0.02-0.5之间，具有有效信息。x1、x3、x7、x9的IV值在0.5以上，包含大量有效信息，可参与模型训练，也可单独作为规则使用。"
   ]
  },
  {
   "cell_type": "code",
   "execution_count": 34,
   "metadata": {},
   "outputs": [],
   "source": [
    "# 建模前需将筛选后的变量转换为WOE值，便于信用评分\n",
    "def transform_woe(var, var_name, woe, cut):\n",
    "    woe_name = var_name + '_woe'\n",
    "    for i in range(len(woe)):\n",
    "        if i == 0:\n",
    "            var.loc[(var[var_name]<=cut[i+1]), woe_name]=woe[i]\n",
    "        elif (i>0) and (i<=len(woe)-2):\n",
    "            var.loc[((var[var_name]>cut[i])&(var[var_name]<=cut[i+1])), woe_name]=woe[i] \n",
    "        else:\n",
    "            var.loc[(var[var_name]>cut[len(woe)-1]), woe_name]=woe[len(woe)-1]  \n",
    "    return var"
   ]
  },
  {
   "cell_type": "code",
   "execution_count": 35,
   "metadata": {},
   "outputs": [],
   "source": [
    "x1 = 'RevolvingUtilizationOfUnsecuredLines'\n",
    "x2 = 'age'\n",
    "x3 = 'NumberOfTime30-59DaysPastDueNotWorse'\n",
    "x4 = 'DebtRatio'\n",
    "x5 = 'MonthlyIncome'\n",
    "x6 = 'NumberOfOpenCreditLinesAndLoans'\n",
    "x7 = 'NumberOfTimes90DaysLate'\n",
    "x8 = 'NumberRealEstateLoansOrLines'\n",
    "x9 = 'NumberOfTime60-89DaysPastDueNotWorse'\n",
    "x10 = 'NumberOfDependents'\n",
    "\n",
    "train_df = transform_woe(train_df, x1, woex1, cutx1)\n",
    "train_df = transform_woe(train_df, x2, woex2, cutx2)\n",
    "train_df = transform_woe(train_df, x3, woex3, cutx3)\n",
    "train_df = transform_woe(train_df, x4, woex4, cutx4)\n",
    "train_df = transform_woe(train_df, x5, woex5, cutx5)\n",
    "train_df = transform_woe(train_df, x6, woex6, cutx6)\n",
    "train_df = transform_woe(train_df, x7, woex7, cutx7)\n",
    "train_df = transform_woe(train_df, x8, woex8, cutx8)\n",
    "train_df = transform_woe(train_df, x9, woex9, cutx9)\n",
    "train_df = transform_woe(train_df, x10, woex10, cutx10)"
   ]
  },
  {
   "cell_type": "code",
   "execution_count": 36,
   "metadata": {},
   "outputs": [
    {
     "data": {
      "text/html": [
       "<div>\n",
       "<style scoped>\n",
       "    .dataframe tbody tr th:only-of-type {\n",
       "        vertical-align: middle;\n",
       "    }\n",
       "\n",
       "    .dataframe tbody tr th {\n",
       "        vertical-align: top;\n",
       "    }\n",
       "\n",
       "    .dataframe thead th {\n",
       "        text-align: right;\n",
       "    }\n",
       "</style>\n",
       "<table border=\"1\" class=\"dataframe\">\n",
       "  <thead>\n",
       "    <tr style=\"text-align: right;\">\n",
       "      <th></th>\n",
       "      <th>RevolvingUtilizationOfUnsecuredLines_woe</th>\n",
       "      <th>age_woe</th>\n",
       "      <th>NumberOfTime30-59DaysPastDueNotWorse_woe</th>\n",
       "      <th>DebtRatio_woe</th>\n",
       "      <th>MonthlyIncome_woe</th>\n",
       "      <th>NumberOfOpenCreditLinesAndLoans_woe</th>\n",
       "      <th>NumberOfTimes90DaysLate_woe</th>\n",
       "      <th>NumberRealEstateLoansOrLines_woe</th>\n",
       "      <th>NumberOfTime60-89DaysPastDueNotWorse_woe</th>\n",
       "      <th>NumberOfDependents_woe</th>\n",
       "    </tr>\n",
       "  </thead>\n",
       "  <tbody>\n",
       "    <tr>\n",
       "      <th>86274</th>\n",
       "      <td>0.314</td>\n",
       "      <td>-0.285</td>\n",
       "      <td>0.534</td>\n",
       "      <td>0.083</td>\n",
       "      <td>0.361</td>\n",
       "      <td>0.064</td>\n",
       "      <td>0.377</td>\n",
       "      <td>0.184</td>\n",
       "      <td>0.274</td>\n",
       "      <td>-0.206</td>\n",
       "    </tr>\n",
       "    <tr>\n",
       "      <th>50496</th>\n",
       "      <td>-1.111</td>\n",
       "      <td>-0.548</td>\n",
       "      <td>-0.913</td>\n",
       "      <td>-0.189</td>\n",
       "      <td>-0.186</td>\n",
       "      <td>-0.392</td>\n",
       "      <td>0.377</td>\n",
       "      <td>-0.250</td>\n",
       "      <td>-2.681</td>\n",
       "      <td>0.161</td>\n",
       "    </tr>\n",
       "    <tr>\n",
       "      <th>392</th>\n",
       "      <td>0.314</td>\n",
       "      <td>1.096</td>\n",
       "      <td>0.534</td>\n",
       "      <td>0.083</td>\n",
       "      <td>0.361</td>\n",
       "      <td>0.064</td>\n",
       "      <td>0.377</td>\n",
       "      <td>-0.250</td>\n",
       "      <td>0.274</td>\n",
       "      <td>0.161</td>\n",
       "    </tr>\n",
       "    <tr>\n",
       "      <th>97892</th>\n",
       "      <td>-1.111</td>\n",
       "      <td>0.225</td>\n",
       "      <td>-1.760</td>\n",
       "      <td>0.083</td>\n",
       "      <td>0.361</td>\n",
       "      <td>0.025</td>\n",
       "      <td>0.377</td>\n",
       "      <td>0.184</td>\n",
       "      <td>0.274</td>\n",
       "      <td>0.161</td>\n",
       "    </tr>\n",
       "    <tr>\n",
       "      <th>91907</th>\n",
       "      <td>-1.111</td>\n",
       "      <td>-0.548</td>\n",
       "      <td>-0.913</td>\n",
       "      <td>0.083</td>\n",
       "      <td>-0.102</td>\n",
       "      <td>0.239</td>\n",
       "      <td>0.377</td>\n",
       "      <td>0.257</td>\n",
       "      <td>0.274</td>\n",
       "      <td>-0.101</td>\n",
       "    </tr>\n",
       "  </tbody>\n",
       "</table>\n",
       "</div>"
      ],
      "text/plain": [
       "       RevolvingUtilizationOfUnsecuredLines_woe  age_woe  \\\n",
       "86274                                     0.314   -0.285   \n",
       "50496                                    -1.111   -0.548   \n",
       "392                                       0.314    1.096   \n",
       "97892                                    -1.111    0.225   \n",
       "91907                                    -1.111   -0.548   \n",
       "\n",
       "       NumberOfTime30-59DaysPastDueNotWorse_woe  DebtRatio_woe  \\\n",
       "86274                                     0.534          0.083   \n",
       "50496                                    -0.913         -0.189   \n",
       "392                                       0.534          0.083   \n",
       "97892                                    -1.760          0.083   \n",
       "91907                                    -0.913          0.083   \n",
       "\n",
       "       MonthlyIncome_woe  NumberOfOpenCreditLinesAndLoans_woe  \\\n",
       "86274              0.361                                0.064   \n",
       "50496             -0.186                               -0.392   \n",
       "392                0.361                                0.064   \n",
       "97892              0.361                                0.025   \n",
       "91907             -0.102                                0.239   \n",
       "\n",
       "       NumberOfTimes90DaysLate_woe  NumberRealEstateLoansOrLines_woe  \\\n",
       "86274                        0.377                             0.184   \n",
       "50496                        0.377                            -0.250   \n",
       "392                          0.377                            -0.250   \n",
       "97892                        0.377                             0.184   \n",
       "91907                        0.377                             0.257   \n",
       "\n",
       "       NumberOfTime60-89DaysPastDueNotWorse_woe  NumberOfDependents_woe  \n",
       "86274                                     0.274                  -0.206  \n",
       "50496                                    -2.681                   0.161  \n",
       "392                                       0.274                   0.161  \n",
       "97892                                     0.274                   0.161  \n",
       "91907                                     0.274                  -0.101  "
      ]
     },
     "execution_count": 36,
     "metadata": {},
     "output_type": "execute_result"
    }
   ],
   "source": [
    "# 目标变量\n",
    "y = train_df['SeriousDlqin2yrs']\n",
    "\n",
    "# 选取相应的特征变量\n",
    "X = train_df.drop(['SeriousDlqin2yrs'], axis = 1)\n",
    "X = train_df.iloc[:, 11:]\n",
    "X.head()"
   ]
  },
  {
   "cell_type": "code",
   "execution_count": 37,
   "metadata": {},
   "outputs": [
    {
     "data": {
      "text/html": [
       "<div>\n",
       "<style scoped>\n",
       "    .dataframe tbody tr th:only-of-type {\n",
       "        vertical-align: middle;\n",
       "    }\n",
       "\n",
       "    .dataframe tbody tr th {\n",
       "        vertical-align: top;\n",
       "    }\n",
       "\n",
       "    .dataframe thead th {\n",
       "        text-align: right;\n",
       "    }\n",
       "</style>\n",
       "<table border=\"1\" class=\"dataframe\">\n",
       "  <thead>\n",
       "    <tr style=\"text-align: right;\">\n",
       "      <th></th>\n",
       "      <th>RevolvingUtilizationOfUnsecuredLines_woe</th>\n",
       "      <th>age_woe</th>\n",
       "      <th>NumberOfTime30-59DaysPastDueNotWorse_woe</th>\n",
       "      <th>DebtRatio_woe</th>\n",
       "      <th>MonthlyIncome_woe</th>\n",
       "      <th>NumberOfOpenCreditLinesAndLoans_woe</th>\n",
       "      <th>NumberOfTimes90DaysLate_woe</th>\n",
       "      <th>NumberRealEstateLoansOrLines_woe</th>\n",
       "      <th>NumberOfTime60-89DaysPastDueNotWorse_woe</th>\n",
       "      <th>NumberOfDependents_woe</th>\n",
       "    </tr>\n",
       "  </thead>\n",
       "  <tbody>\n",
       "    <tr>\n",
       "      <th>2709</th>\n",
       "      <td>1.328</td>\n",
       "      <td>-0.548</td>\n",
       "      <td>0.534</td>\n",
       "      <td>-0.189</td>\n",
       "      <td>-0.102</td>\n",
       "      <td>0.239</td>\n",
       "      <td>0.377</td>\n",
       "      <td>0.184</td>\n",
       "      <td>0.274</td>\n",
       "      <td>-0.101</td>\n",
       "    </tr>\n",
       "    <tr>\n",
       "      <th>137052</th>\n",
       "      <td>0.314</td>\n",
       "      <td>0.940</td>\n",
       "      <td>0.534</td>\n",
       "      <td>0.083</td>\n",
       "      <td>0.361</td>\n",
       "      <td>0.064</td>\n",
       "      <td>0.377</td>\n",
       "      <td>0.184</td>\n",
       "      <td>0.274</td>\n",
       "      <td>0.161</td>\n",
       "    </tr>\n",
       "    <tr>\n",
       "      <th>125061</th>\n",
       "      <td>1.328</td>\n",
       "      <td>-0.066</td>\n",
       "      <td>0.534</td>\n",
       "      <td>0.083</td>\n",
       "      <td>-0.186</td>\n",
       "      <td>-0.178</td>\n",
       "      <td>0.377</td>\n",
       "      <td>0.257</td>\n",
       "      <td>0.274</td>\n",
       "      <td>-0.101</td>\n",
       "    </tr>\n",
       "    <tr>\n",
       "      <th>89763</th>\n",
       "      <td>1.238</td>\n",
       "      <td>1.096</td>\n",
       "      <td>0.534</td>\n",
       "      <td>-0.189</td>\n",
       "      <td>-0.186</td>\n",
       "      <td>0.168</td>\n",
       "      <td>0.377</td>\n",
       "      <td>0.257</td>\n",
       "      <td>0.274</td>\n",
       "      <td>-0.101</td>\n",
       "    </tr>\n",
       "    <tr>\n",
       "      <th>50712</th>\n",
       "      <td>1.238</td>\n",
       "      <td>0.940</td>\n",
       "      <td>0.534</td>\n",
       "      <td>0.083</td>\n",
       "      <td>-0.102</td>\n",
       "      <td>0.168</td>\n",
       "      <td>0.377</td>\n",
       "      <td>0.257</td>\n",
       "      <td>0.274</td>\n",
       "      <td>0.161</td>\n",
       "    </tr>\n",
       "  </tbody>\n",
       "</table>\n",
       "</div>"
      ],
      "text/plain": [
       "        RevolvingUtilizationOfUnsecuredLines_woe  age_woe  \\\n",
       "2709                                       1.328   -0.548   \n",
       "137052                                     0.314    0.940   \n",
       "125061                                     1.328   -0.066   \n",
       "89763                                      1.238    1.096   \n",
       "50712                                      1.238    0.940   \n",
       "\n",
       "        NumberOfTime30-59DaysPastDueNotWorse_woe  DebtRatio_woe  \\\n",
       "2709                                       0.534         -0.189   \n",
       "137052                                     0.534          0.083   \n",
       "125061                                     0.534          0.083   \n",
       "89763                                      0.534         -0.189   \n",
       "50712                                      0.534          0.083   \n",
       "\n",
       "        MonthlyIncome_woe  NumberOfOpenCreditLinesAndLoans_woe  \\\n",
       "2709               -0.102                                0.239   \n",
       "137052              0.361                                0.064   \n",
       "125061             -0.186                               -0.178   \n",
       "89763              -0.186                                0.168   \n",
       "50712              -0.102                                0.168   \n",
       "\n",
       "        NumberOfTimes90DaysLate_woe  NumberRealEstateLoansOrLines_woe  \\\n",
       "2709                          0.377                             0.184   \n",
       "137052                        0.377                             0.184   \n",
       "125061                        0.377                             0.257   \n",
       "89763                         0.377                             0.257   \n",
       "50712                         0.377                             0.257   \n",
       "\n",
       "        NumberOfTime60-89DaysPastDueNotWorse_woe  NumberOfDependents_woe  \n",
       "2709                                       0.274                  -0.101  \n",
       "137052                                     0.274                   0.161  \n",
       "125061                                     0.274                  -0.101  \n",
       "89763                                      0.274                  -0.101  \n",
       "50712                                      0.274                   0.161  "
      ]
     },
     "execution_count": 37,
     "metadata": {},
     "output_type": "execute_result"
    }
   ],
   "source": [
    "test_df = transform_woe(test_df, x1, woex1, cutx1)\n",
    "test_df = transform_woe(test_df, x2, woex2, cutx2)\n",
    "test_df = transform_woe(test_df, x3, woex3, cutx3)\n",
    "test_df = transform_woe(test_df, x4, woex4, cutx4)\n",
    "test_df = transform_woe(test_df, x5, woex5, cutx5)\n",
    "test_df = transform_woe(test_df, x6, woex6, cutx6)\n",
    "test_df = transform_woe(test_df, x7, woex7, cutx7)\n",
    "test_df = transform_woe(test_df, x8, woex8, cutx8)\n",
    "test_df = transform_woe(test_df, x9, woex9, cutx9)\n",
    "test_df = transform_woe(test_df, x10, woex10, cutx10)\n",
    "\n",
    "test_y = test_df['SeriousDlqin2yrs']\n",
    "test_X = test_df.drop(['SeriousDlqin2yrs'], axis = 1)\n",
    "test_X = test_df.iloc[:, 11:]\n",
    "test_X.head()"
   ]
  },
  {
   "cell_type": "markdown",
   "metadata": {},
   "source": [
    "## 贝叶斯调参优化"
   ]
  },
  {
   "cell_type": "code",
   "execution_count": 38,
   "metadata": {},
   "outputs": [],
   "source": [
    "from bayes_opt import BayesianOptimization\n",
    "from sklearn.model_selection import cross_val_score"
   ]
  },
  {
   "cell_type": "code",
   "execution_count": 39,
   "metadata": {},
   "outputs": [],
   "source": [
    "def xgb_cv(learning_rate, n_estimators, max_depth):\n",
    "    val = cross_val_score(XGBClassifier(\n",
    "        learning_rate = min(learning_rate, 0.99), \n",
    "        n_estimators=int(n_estimators),\n",
    "        max_depth=int(max_depth),\n",
    "        random_state=2020),\n",
    "                          X, y, scoring='roc_auc', cv=5).mean()\n",
    "    return val"
   ]
  },
  {
   "cell_type": "code",
   "execution_count": 40,
   "metadata": {},
   "outputs": [
    {
     "name": "stdout",
     "output_type": "stream",
     "text": [
      "|   iter    |  target   | learni... | max_depth | n_esti... |\n",
      "-------------------------------------------------------------\n",
      "| \u001b[0m 1       \u001b[0m | \u001b[0m 0.8581  \u001b[0m | \u001b[0m 0.6189  \u001b[0m | \u001b[0m 2.68    \u001b[0m | \u001b[0m 235.7   \u001b[0m |\n",
      "| \u001b[0m 2       \u001b[0m | \u001b[0m 0.759   \u001b[0m | \u001b[0m 0.8602  \u001b[0m | \u001b[0m 7.86    \u001b[0m | \u001b[0m 444.5   \u001b[0m |\n",
      "| \u001b[0m 3       \u001b[0m | \u001b[0m 0.7425  \u001b[0m | \u001b[0m 0.8328  \u001b[0m | \u001b[0m 9.791   \u001b[0m | \u001b[0m 393.2   \u001b[0m |\n",
      "| \u001b[0m 4       \u001b[0m | \u001b[0m 0.836   \u001b[0m | \u001b[0m 0.941   \u001b[0m | \u001b[0m 4.633   \u001b[0m | \u001b[0m 307.4   \u001b[0m |\n",
      "| \u001b[0m 5       \u001b[0m | \u001b[0m 0.8552  \u001b[0m | \u001b[0m 0.1212  \u001b[0m | \u001b[0m 5.363   \u001b[0m | \u001b[0m 253.1   \u001b[0m |\n",
      "| \u001b[0m 6       \u001b[0m | \u001b[0m 0.8514  \u001b[0m | \u001b[0m 0.01    \u001b[0m | \u001b[0m 10.0    \u001b[0m | \u001b[0m 100.0   \u001b[0m |\n",
      "| \u001b[0m 7       \u001b[0m | \u001b[0m 0.8576  \u001b[0m | \u001b[0m 0.5954  \u001b[0m | \u001b[0m 2.375   \u001b[0m | \u001b[0m 499.9   \u001b[0m |\n",
      "| \u001b[0m 8       \u001b[0m | \u001b[0m 0.8577  \u001b[0m | \u001b[0m 0.07278 \u001b[0m | \u001b[0m 2.84    \u001b[0m | \u001b[0m 232.4   \u001b[0m |\n",
      "| \u001b[0m 9       \u001b[0m | \u001b[0m 0.7666  \u001b[0m | \u001b[0m 0.7876  \u001b[0m | \u001b[0m 9.932   \u001b[0m | \u001b[0m 162.8   \u001b[0m |\n",
      "| \u001b[0m 10      \u001b[0m | \u001b[0m 0.8576  \u001b[0m | \u001b[0m 0.9625  \u001b[0m | \u001b[0m 2.077   \u001b[0m | \u001b[0m 101.0   \u001b[0m |\n",
      "| \u001b[0m 11      \u001b[0m | \u001b[0m 0.7712  \u001b[0m | \u001b[0m 0.3332  \u001b[0m | \u001b[0m 9.858   \u001b[0m | \u001b[0m 499.7   \u001b[0m |\n",
      "| \u001b[0m 12      \u001b[0m | \u001b[0m 0.8564  \u001b[0m | \u001b[0m 0.04019 \u001b[0m | \u001b[0m 2.021   \u001b[0m | \u001b[0m 273.8   \u001b[0m |\n",
      "| \u001b[0m 13      \u001b[0m | \u001b[0m 0.8549  \u001b[0m | \u001b[0m 0.02337 \u001b[0m | \u001b[0m 2.26    \u001b[0m | \u001b[0m 343.1   \u001b[0m |\n",
      "| \u001b[95m 14      \u001b[0m | \u001b[95m 0.8586  \u001b[0m | \u001b[95m 0.2222  \u001b[0m | \u001b[95m 2.057   \u001b[0m | \u001b[95m 481.3   \u001b[0m |\n",
      "| \u001b[95m 15      \u001b[0m | \u001b[95m 0.8588  \u001b[0m | \u001b[95m 0.2673  \u001b[0m | \u001b[95m 2.066   \u001b[0m | \u001b[95m 250.1   \u001b[0m |\n",
      "| \u001b[0m 16      \u001b[0m | \u001b[0m 0.8579  \u001b[0m | \u001b[0m 0.04127 \u001b[0m | \u001b[0m 2.169   \u001b[0m | \u001b[0m 495.1   \u001b[0m |\n",
      "| \u001b[0m 17      \u001b[0m | \u001b[0m 0.857   \u001b[0m | \u001b[0m 0.9464  \u001b[0m | \u001b[0m 2.096   \u001b[0m | \u001b[0m 485.5   \u001b[0m |\n",
      "| \u001b[0m 18      \u001b[0m | \u001b[0m 0.8414  \u001b[0m | \u001b[0m 0.02548 \u001b[0m | \u001b[0m 2.087   \u001b[0m | \u001b[0m 100.4   \u001b[0m |\n",
      "| \u001b[0m 19      \u001b[0m | \u001b[0m 0.7688  \u001b[0m | \u001b[0m 0.9514  \u001b[0m | \u001b[0m 9.737   \u001b[0m | \u001b[0m 116.2   \u001b[0m |\n",
      "| \u001b[0m 20      \u001b[0m | \u001b[0m 0.7533  \u001b[0m | \u001b[0m 0.9831  \u001b[0m | \u001b[0m 9.712   \u001b[0m | \u001b[0m 202.5   \u001b[0m |\n",
      "| \u001b[0m 21      \u001b[0m | \u001b[0m 0.8198  \u001b[0m | \u001b[0m 0.1375  \u001b[0m | \u001b[0m 9.94    \u001b[0m | \u001b[0m 341.8   \u001b[0m |\n",
      "| \u001b[0m 22      \u001b[0m | \u001b[0m 0.8579  \u001b[0m | \u001b[0m 0.6999  \u001b[0m | \u001b[0m 2.055   \u001b[0m | \u001b[0m 368.8   \u001b[0m |\n",
      "| \u001b[0m 23      \u001b[0m | \u001b[0m 0.8579  \u001b[0m | \u001b[0m 0.5793  \u001b[0m | \u001b[0m 2.041   \u001b[0m | \u001b[0m 420.1   \u001b[0m |\n",
      "| \u001b[0m 24      \u001b[0m | \u001b[0m 0.8405  \u001b[0m | \u001b[0m 0.06951 \u001b[0m | \u001b[0m 9.824   \u001b[0m | \u001b[0m 284.6   \u001b[0m |\n",
      "| \u001b[0m 25      \u001b[0m | \u001b[0m 0.8586  \u001b[0m | \u001b[0m 0.2909  \u001b[0m | \u001b[0m 2.036   \u001b[0m | \u001b[0m 449.2   \u001b[0m |\n",
      "| \u001b[0m 26      \u001b[0m | \u001b[0m 0.8581  \u001b[0m | \u001b[0m 0.07907 \u001b[0m | \u001b[0m 2.009   \u001b[0m | \u001b[0m 400.6   \u001b[0m |\n",
      "| \u001b[0m 27      \u001b[0m | \u001b[0m 0.8581  \u001b[0m | \u001b[0m 0.5047  \u001b[0m | \u001b[0m 2.006   \u001b[0m | \u001b[0m 463.3   \u001b[0m |\n",
      "| \u001b[0m 28      \u001b[0m | \u001b[0m 0.8578  \u001b[0m | \u001b[0m 0.04808 \u001b[0m | \u001b[0m 2.066   \u001b[0m | \u001b[0m 378.3   \u001b[0m |\n",
      "| \u001b[0m 29      \u001b[0m | \u001b[0m 0.8571  \u001b[0m | \u001b[0m 0.03671 \u001b[0m | \u001b[0m 2.292   \u001b[0m | \u001b[0m 357.9   \u001b[0m |\n",
      "| \u001b[0m 30      \u001b[0m | \u001b[0m 0.783   \u001b[0m | \u001b[0m 0.9797  \u001b[0m | \u001b[0m 8.892   \u001b[0m | \u001b[0m 100.1   \u001b[0m |\n",
      "=============================================================\n"
     ]
    }
   ],
   "source": [
    "xgb_bo = BayesianOptimization(xgb_cv, \n",
    "                              {'learning_rate':(0.01, 0.99),\n",
    "                               'n_estimators':(100, 500), \n",
    "                               'max_depth':(2, 10)})\n",
    "xgb_bo.maximize()"
   ]
  },
  {
   "cell_type": "code",
   "execution_count": 41,
   "metadata": {},
   "outputs": [
    {
     "data": {
      "text/plain": [
       "{'target': 0.858754936650751,\n",
       " 'params': {'learning_rate': 0.2673407860795405,\n",
       "  'max_depth': 2.0663029107802258,\n",
       "  'n_estimators': 250.1334449879121}}"
      ]
     },
     "execution_count": 41,
     "metadata": {},
     "output_type": "execute_result"
    }
   ],
   "source": [
    "xgb_bo.max"
   ]
  },
  {
   "cell_type": "markdown",
   "metadata": {},
   "source": [
    "## 拟合模型"
   ]
  },
  {
   "cell_type": "code",
   "execution_count": 48,
   "metadata": {},
   "outputs": [],
   "source": [
    "def xgb_model(X, y, test_X, test_y):  \n",
    "    xgb = XGBClassifier(\n",
    "        learning_rate=0.3, \n",
    "        n_estimators=299,  \n",
    "        max_depth=2, \n",
    "        class_weight='balanced',  \n",
    "        min_child_weight=1,  \n",
    "        subsample=1,   \n",
    "        nthread=-1,  \n",
    "        scale_pos_weight=1,  \n",
    "        random_state=2020,  \n",
    "        n_jobs=-1,  \n",
    "        reg_lambda=300        \n",
    "    )\n",
    "    xgb.fit(X, y)\n",
    "    y_pred = xgb.predict_proba(X)[:,1]  \n",
    "    fpr_tr, tpr_tr, _ = roc_curve(y, y_pred)\n",
    "    train_roc_auc = auc(fpr_tr, tpr_tr)\n",
    "    train_ks = abs(fpr_tr-tpr_tr).max()\n",
    "    print('train auc score: {0:.4f}'.format(train_roc_auc))\n",
    "    print('train ks: {0:.4f}'.format(train_ks))\n",
    "    print('--' * 12)\n",
    "    y_test_pred = xgb.predict_proba(test_X)[:,1]\n",
    "    fpr_ts, tpr_ts, _ = roc_curve(test_y, y_test_pred)\n",
    "    test_roc_auc = auc(fpr_ts, tpr_ts)\n",
    "    test_ks = abs(fpr_ts-tpr_ts).max()\n",
    "    print('test auc score: {0:.4f}'.format(test_roc_auc))\n",
    "    print('test ks: {0:.4f}'.format(test_ks))\n",
    "\n",
    "    plt.figure(figsize = (10, 7))\n",
    "    plt.plot(fpr_tr, tpr_tr, label = 'train')\n",
    "    plt.plot(fpr_ts, tpr_ts, label = 'test')\n",
    "    plt.plot([0,1], [0,1], 'k--')\n",
    "    plt.xlabel('False positive rate')\n",
    "    plt.ylabel('True positive rate')\n",
    "    plt.title('ROC Curve')\n",
    "    plt.legend(loc='best')\n",
    "    plt.show()"
   ]
  },
  {
   "cell_type": "code",
   "execution_count": 49,
   "metadata": {},
   "outputs": [
    {
     "name": "stdout",
     "output_type": "stream",
     "text": [
      "train auc score: 0.8603\n",
      "train ks: 0.5643\n",
      "------------------------\n",
      "test auc score: 0.8556\n",
      "test ks: 0.5586\n"
     ]
    },
    {
     "data": {
      "image/png": "[encoded data removed]",
      "text/plain": [
       "<Figure size 720x504 with 1 Axes>"
      ]
     },
     "metadata": {},
     "output_type": "display_data"
    }
   ],
   "source": [
    "xgb_model(X, y, test_X, test_y)"
   ]
  },
  {
   "cell_type": "markdown",
   "metadata": {},
   "source": [
    "## 计算AUC值和KS值"
   ]
  },
  {
   "cell_type": "code",
   "execution_count": 47,
   "metadata": {},
   "outputs": [
    {
     "name": "stdout",
     "output_type": "stream",
     "text": [
      "训练集：\n",
      "AUC: 0.8603\n",
      "KS: 0.5643\n",
      "-----------\n",
      "测试集：\n",
      "AUC: 0.8556\n",
      "KS: 0.5586\n"
     ]
    }
   ],
   "source": [
    "from toad.metrics import AUC, KS\n",
    "\n",
    "xgb = XGBClassifier(\n",
    "        learning_rate=0.3, \n",
    "        n_estimators=299,  \n",
    "        max_depth=2,  \n",
    "        class_weight='balanced',  \n",
    "        min_child_weight=1,  \n",
    "        subsample=1,   \n",
    "        nthread=-1,  \n",
    "        scale_pos_weight=1,  \n",
    "        reg_lambda=300, \n",
    "        random_state=2020, \n",
    "        n_jobs=-1\n",
    ")\n",
    "xgb.fit(X, y) \n",
    "y_pred = xgb.predict_proba(X)[:,1]\n",
    "y_test_pred = xgb.predict_proba(test_X)[:,1]\n",
    "\n",
    "print('训练集：')\n",
    "print('AUC: {0:.4f}'.format(AUC(y_pred, y)))\n",
    "print('KS: {0:.4f}'.format(KS(y_pred, y)))\n",
    "print(\"-\" * 11)\n",
    "print('测试集：')\n",
    "print('AUC: {0:.4f}'.format(AUC(y_test_pred, test_y)))\n",
    "print('KS: {0:.4f}'.format(KS(y_test_pred, test_y)))"
   ]
  },
  {
   "cell_type": "code",
   "execution_count": null,
   "metadata": {},
   "outputs": [],
   "source": []
  },
  {
   "cell_type": "code",
   "execution_count": null,
   "metadata": {},
   "outputs": [],
   "source": []
  }
 ],
 "metadata": {
  "kernelspec": {
   "display_name": "Python 3",
   "language": "python",
   "name": "python3"
  },
  "language_info": {
   "codemirror_mode": {
    "name": "ipython",
    "version": 3
   },
   "file_extension": ".py",
   "mimetype": "text/x-python",
   "name": "python",
   "nbconvert_exporter": "python",
   "pygments_lexer": "ipython3",
   "version": "3.7.6"
  }
 },
 "nbformat": 4,
 "nbformat_minor": 4
}
